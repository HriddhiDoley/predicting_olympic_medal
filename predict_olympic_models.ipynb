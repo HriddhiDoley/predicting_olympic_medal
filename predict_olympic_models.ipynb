{
  "nbformat": 4,
  "nbformat_minor": 0,
  "metadata": {
    "colab": {
      "provenance": [],
      "mount_file_id": "https://github.com/HriddhiDoley/predicting_olympic_medal/blob/main/predict_olympic_models.ipynb",
      "authorship_tag": "ABX9TyPCbDD9wyglSEKweu9HENjo",
      "include_colab_link": true
    },
    "kernelspec": {
      "name": "python3",
      "display_name": "Python 3"
    },
    "language_info": {
      "name": "python"
    }
  },
  "cells": [
    {
      "cell_type": "markdown",
      "metadata": {
        "id": "view-in-github",
        "colab_type": "text"
      },
      "source": [
        "<a href=\"https://colab.research.google.com/github/HriddhiDoley/predicting_olympic_medal/blob/main/predict_olympic_models.ipynb\" target=\"_parent\"><img src=\"https://colab.research.google.com/assets/colab-badge.svg\" alt=\"Open In Colab\"/></a>"
      ]
    },
    {
      "cell_type": "markdown",
      "source": [
        "# Introduction\n",
        "This project explores the use of machine learning (ML) and deep learning (DL) techniques to predict the total number of Olympic medals a country will win. By analyzing various factors like GDP, population, and sports infrastructure, this study provides valuable insights into the key determinants of Olympic success. Leveraging models such as Random Forest and Neural Networks, the findings highlight the interplay between economic and sports-related features in influencing medal counts.\n"
      ],
      "metadata": {
        "id": "EtdzjJTEkBWB"
      }
    },
    {
      "cell_type": "code",
      "source": [
        "# Olympic Medals Prediction Project\n",
        "\n",
        "## Import Libraries\n",
        "import pandas as pd\n",
        "import numpy as np\n",
        "import matplotlib.pyplot as plt\n",
        "import seaborn as sns\n",
        "from sklearn.model_selection import train_test_split\n",
        "from sklearn.linear_model import LinearRegression\n",
        "from sklearn.tree import DecisionTreeRegressor\n",
        "from sklearn.ensemble import RandomForestRegressor\n",
        "from sklearn.metrics import mean_absolute_error, mean_squared_error, r2_score\n",
        "import tensorflow as tf\n",
        "from tensorflow.keras.models import Sequential\n",
        "from tensorflow.keras.layers import Dense"
      ],
      "metadata": {
        "id": "DRi6zS-hZObM"
      },
      "execution_count": null,
      "outputs": []
    },
    {
      "cell_type": "markdown",
      "source": [
        "Step 1: Load the Data set"
      ],
      "metadata": {
        "id": "Beto2FlK1cQK"
      }
    },
    {
      "cell_type": "code",
      "source": [
        "# Load Dataset\n",
        "data = pd.read_csv('gni-olympics.csv')\n",
        "data.head()"
      ],
      "metadata": {
        "id": "kjuKTdPOZeV5",
        "outputId": "81436adb-8033-4741-c770-a9d44069484d",
        "colab": {
          "base_uri": "https://localhost:8080/",
          "height": 243
        }
      },
      "execution_count": null,
      "outputs": [
        {
          "output_type": "execute_result",
          "data": {
            "text/plain": [
              "   iso  ioc        name      continent  population            gdp  \\\n",
              "0  ARG  ARG   Argentina  South America    45376763   383066977654   \n",
              "1  ARM  ARM     Armenia           Asia     2963234    12645459214   \n",
              "2  AUS  AUS   Australia        Oceania    25687041  1330900925057   \n",
              "3  AUT  AUT     Austria         Europe     8917205   428965397959   \n",
              "4  AZE  AZE  Azerbaijan         Europe    10110116    42607176471   \n",
              "\n",
              "   olympics_index  sports_index  olympicsIndex  sportsIndex  total  gold  \\\n",
              "0       19.597142      9.324537      19.597142     9.324537      3     0   \n",
              "1       19.681457     13.497324      19.681457    13.497324      4     0   \n",
              "2       31.170099     11.073845      31.170099    11.073845     46    17   \n",
              "3       12.212139     15.923033      12.212139    15.923033      7     1   \n",
              "4       18.213838     13.103344      18.213838    13.103344      7     0   \n",
              "\n",
              "   silver  bronze  \n",
              "0       1       2  \n",
              "1       2       2  \n",
              "2       7      22  \n",
              "3       1       5  \n",
              "4       3       4  "
            ],
            "text/html": [
              "\n",
              "  <div id=\"df-d41747c3-74b4-445d-8841-ca93d6d9b154\" class=\"colab-df-container\">\n",
              "    <div>\n",
              "<style scoped>\n",
              "    .dataframe tbody tr th:only-of-type {\n",
              "        vertical-align: middle;\n",
              "    }\n",
              "\n",
              "    .dataframe tbody tr th {\n",
              "        vertical-align: top;\n",
              "    }\n",
              "\n",
              "    .dataframe thead th {\n",
              "        text-align: right;\n",
              "    }\n",
              "</style>\n",
              "<table border=\"1\" class=\"dataframe\">\n",
              "  <thead>\n",
              "    <tr style=\"text-align: right;\">\n",
              "      <th></th>\n",
              "      <th>iso</th>\n",
              "      <th>ioc</th>\n",
              "      <th>name</th>\n",
              "      <th>continent</th>\n",
              "      <th>population</th>\n",
              "      <th>gdp</th>\n",
              "      <th>olympics_index</th>\n",
              "      <th>sports_index</th>\n",
              "      <th>olympicsIndex</th>\n",
              "      <th>sportsIndex</th>\n",
              "      <th>total</th>\n",
              "      <th>gold</th>\n",
              "      <th>silver</th>\n",
              "      <th>bronze</th>\n",
              "    </tr>\n",
              "  </thead>\n",
              "  <tbody>\n",
              "    <tr>\n",
              "      <th>0</th>\n",
              "      <td>ARG</td>\n",
              "      <td>ARG</td>\n",
              "      <td>Argentina</td>\n",
              "      <td>South America</td>\n",
              "      <td>45376763</td>\n",
              "      <td>383066977654</td>\n",
              "      <td>19.597142</td>\n",
              "      <td>9.324537</td>\n",
              "      <td>19.597142</td>\n",
              "      <td>9.324537</td>\n",
              "      <td>3</td>\n",
              "      <td>0</td>\n",
              "      <td>1</td>\n",
              "      <td>2</td>\n",
              "    </tr>\n",
              "    <tr>\n",
              "      <th>1</th>\n",
              "      <td>ARM</td>\n",
              "      <td>ARM</td>\n",
              "      <td>Armenia</td>\n",
              "      <td>Asia</td>\n",
              "      <td>2963234</td>\n",
              "      <td>12645459214</td>\n",
              "      <td>19.681457</td>\n",
              "      <td>13.497324</td>\n",
              "      <td>19.681457</td>\n",
              "      <td>13.497324</td>\n",
              "      <td>4</td>\n",
              "      <td>0</td>\n",
              "      <td>2</td>\n",
              "      <td>2</td>\n",
              "    </tr>\n",
              "    <tr>\n",
              "      <th>2</th>\n",
              "      <td>AUS</td>\n",
              "      <td>AUS</td>\n",
              "      <td>Australia</td>\n",
              "      <td>Oceania</td>\n",
              "      <td>25687041</td>\n",
              "      <td>1330900925057</td>\n",
              "      <td>31.170099</td>\n",
              "      <td>11.073845</td>\n",
              "      <td>31.170099</td>\n",
              "      <td>11.073845</td>\n",
              "      <td>46</td>\n",
              "      <td>17</td>\n",
              "      <td>7</td>\n",
              "      <td>22</td>\n",
              "    </tr>\n",
              "    <tr>\n",
              "      <th>3</th>\n",
              "      <td>AUT</td>\n",
              "      <td>AUT</td>\n",
              "      <td>Austria</td>\n",
              "      <td>Europe</td>\n",
              "      <td>8917205</td>\n",
              "      <td>428965397959</td>\n",
              "      <td>12.212139</td>\n",
              "      <td>15.923033</td>\n",
              "      <td>12.212139</td>\n",
              "      <td>15.923033</td>\n",
              "      <td>7</td>\n",
              "      <td>1</td>\n",
              "      <td>1</td>\n",
              "      <td>5</td>\n",
              "    </tr>\n",
              "    <tr>\n",
              "      <th>4</th>\n",
              "      <td>AZE</td>\n",
              "      <td>AZE</td>\n",
              "      <td>Azerbaijan</td>\n",
              "      <td>Europe</td>\n",
              "      <td>10110116</td>\n",
              "      <td>42607176471</td>\n",
              "      <td>18.213838</td>\n",
              "      <td>13.103344</td>\n",
              "      <td>18.213838</td>\n",
              "      <td>13.103344</td>\n",
              "      <td>7</td>\n",
              "      <td>0</td>\n",
              "      <td>3</td>\n",
              "      <td>4</td>\n",
              "    </tr>\n",
              "  </tbody>\n",
              "</table>\n",
              "</div>\n",
              "    <div class=\"colab-df-buttons\">\n",
              "\n",
              "  <div class=\"colab-df-container\">\n",
              "    <button class=\"colab-df-convert\" onclick=\"convertToInteractive('df-d41747c3-74b4-445d-8841-ca93d6d9b154')\"\n",
              "            title=\"Convert this dataframe to an interactive table.\"\n",
              "            style=\"display:none;\">\n",
              "\n",
              "  <svg xmlns=\"http://www.w3.org/2000/svg\" height=\"24px\" viewBox=\"0 -960 960 960\">\n",
              "    <path d=\"M120-120v-720h720v720H120Zm60-500h600v-160H180v160Zm220 220h160v-160H400v160Zm0 220h160v-160H400v160ZM180-400h160v-160H180v160Zm440 0h160v-160H620v160ZM180-180h160v-160H180v160Zm440 0h160v-160H620v160Z\"/>\n",
              "  </svg>\n",
              "    </button>\n",
              "\n",
              "  <style>\n",
              "    .colab-df-container {\n",
              "      display:flex;\n",
              "      gap: 12px;\n",
              "    }\n",
              "\n",
              "    .colab-df-convert {\n",
              "      background-color: #E8F0FE;\n",
              "      border: none;\n",
              "      border-radius: 50%;\n",
              "      cursor: pointer;\n",
              "      display: none;\n",
              "      fill: #1967D2;\n",
              "      height: 32px;\n",
              "      padding: 0 0 0 0;\n",
              "      width: 32px;\n",
              "    }\n",
              "\n",
              "    .colab-df-convert:hover {\n",
              "      background-color: #E2EBFA;\n",
              "      box-shadow: 0px 1px 2px rgba(60, 64, 67, 0.3), 0px 1px 3px 1px rgba(60, 64, 67, 0.15);\n",
              "      fill: #174EA6;\n",
              "    }\n",
              "\n",
              "    .colab-df-buttons div {\n",
              "      margin-bottom: 4px;\n",
              "    }\n",
              "\n",
              "    [theme=dark] .colab-df-convert {\n",
              "      background-color: #3B4455;\n",
              "      fill: #D2E3FC;\n",
              "    }\n",
              "\n",
              "    [theme=dark] .colab-df-convert:hover {\n",
              "      background-color: #434B5C;\n",
              "      box-shadow: 0px 1px 3px 1px rgba(0, 0, 0, 0.15);\n",
              "      filter: drop-shadow(0px 1px 2px rgba(0, 0, 0, 0.3));\n",
              "      fill: #FFFFFF;\n",
              "    }\n",
              "  </style>\n",
              "\n",
              "    <script>\n",
              "      const buttonEl =\n",
              "        document.querySelector('#df-d41747c3-74b4-445d-8841-ca93d6d9b154 button.colab-df-convert');\n",
              "      buttonEl.style.display =\n",
              "        google.colab.kernel.accessAllowed ? 'block' : 'none';\n",
              "\n",
              "      async function convertToInteractive(key) {\n",
              "        const element = document.querySelector('#df-d41747c3-74b4-445d-8841-ca93d6d9b154');\n",
              "        const dataTable =\n",
              "          await google.colab.kernel.invokeFunction('convertToInteractive',\n",
              "                                                    [key], {});\n",
              "        if (!dataTable) return;\n",
              "\n",
              "        const docLinkHtml = 'Like what you see? Visit the ' +\n",
              "          '<a target=\"_blank\" href=https://colab.research.google.com/notebooks/data_table.ipynb>data table notebook</a>'\n",
              "          + ' to learn more about interactive tables.';\n",
              "        element.innerHTML = '';\n",
              "        dataTable['output_type'] = 'display_data';\n",
              "        await google.colab.output.renderOutput(dataTable, element);\n",
              "        const docLink = document.createElement('div');\n",
              "        docLink.innerHTML = docLinkHtml;\n",
              "        element.appendChild(docLink);\n",
              "      }\n",
              "    </script>\n",
              "  </div>\n",
              "\n",
              "\n",
              "<div id=\"df-0e534c1e-5c07-4608-92ca-5d99a2ab80a3\">\n",
              "  <button class=\"colab-df-quickchart\" onclick=\"quickchart('df-0e534c1e-5c07-4608-92ca-5d99a2ab80a3')\"\n",
              "            title=\"Suggest charts\"\n",
              "            style=\"display:none;\">\n",
              "\n",
              "<svg xmlns=\"http://www.w3.org/2000/svg\" height=\"24px\"viewBox=\"0 0 24 24\"\n",
              "     width=\"24px\">\n",
              "    <g>\n",
              "        <path d=\"M19 3H5c-1.1 0-2 .9-2 2v14c0 1.1.9 2 2 2h14c1.1 0 2-.9 2-2V5c0-1.1-.9-2-2-2zM9 17H7v-7h2v7zm4 0h-2V7h2v10zm4 0h-2v-4h2v4z\"/>\n",
              "    </g>\n",
              "</svg>\n",
              "  </button>\n",
              "\n",
              "<style>\n",
              "  .colab-df-quickchart {\n",
              "      --bg-color: #E8F0FE;\n",
              "      --fill-color: #1967D2;\n",
              "      --hover-bg-color: #E2EBFA;\n",
              "      --hover-fill-color: #174EA6;\n",
              "      --disabled-fill-color: #AAA;\n",
              "      --disabled-bg-color: #DDD;\n",
              "  }\n",
              "\n",
              "  [theme=dark] .colab-df-quickchart {\n",
              "      --bg-color: #3B4455;\n",
              "      --fill-color: #D2E3FC;\n",
              "      --hover-bg-color: #434B5C;\n",
              "      --hover-fill-color: #FFFFFF;\n",
              "      --disabled-bg-color: #3B4455;\n",
              "      --disabled-fill-color: #666;\n",
              "  }\n",
              "\n",
              "  .colab-df-quickchart {\n",
              "    background-color: var(--bg-color);\n",
              "    border: none;\n",
              "    border-radius: 50%;\n",
              "    cursor: pointer;\n",
              "    display: none;\n",
              "    fill: var(--fill-color);\n",
              "    height: 32px;\n",
              "    padding: 0;\n",
              "    width: 32px;\n",
              "  }\n",
              "\n",
              "  .colab-df-quickchart:hover {\n",
              "    background-color: var(--hover-bg-color);\n",
              "    box-shadow: 0 1px 2px rgba(60, 64, 67, 0.3), 0 1px 3px 1px rgba(60, 64, 67, 0.15);\n",
              "    fill: var(--button-hover-fill-color);\n",
              "  }\n",
              "\n",
              "  .colab-df-quickchart-complete:disabled,\n",
              "  .colab-df-quickchart-complete:disabled:hover {\n",
              "    background-color: var(--disabled-bg-color);\n",
              "    fill: var(--disabled-fill-color);\n",
              "    box-shadow: none;\n",
              "  }\n",
              "\n",
              "  .colab-df-spinner {\n",
              "    border: 2px solid var(--fill-color);\n",
              "    border-color: transparent;\n",
              "    border-bottom-color: var(--fill-color);\n",
              "    animation:\n",
              "      spin 1s steps(1) infinite;\n",
              "  }\n",
              "\n",
              "  @keyframes spin {\n",
              "    0% {\n",
              "      border-color: transparent;\n",
              "      border-bottom-color: var(--fill-color);\n",
              "      border-left-color: var(--fill-color);\n",
              "    }\n",
              "    20% {\n",
              "      border-color: transparent;\n",
              "      border-left-color: var(--fill-color);\n",
              "      border-top-color: var(--fill-color);\n",
              "    }\n",
              "    30% {\n",
              "      border-color: transparent;\n",
              "      border-left-color: var(--fill-color);\n",
              "      border-top-color: var(--fill-color);\n",
              "      border-right-color: var(--fill-color);\n",
              "    }\n",
              "    40% {\n",
              "      border-color: transparent;\n",
              "      border-right-color: var(--fill-color);\n",
              "      border-top-color: var(--fill-color);\n",
              "    }\n",
              "    60% {\n",
              "      border-color: transparent;\n",
              "      border-right-color: var(--fill-color);\n",
              "    }\n",
              "    80% {\n",
              "      border-color: transparent;\n",
              "      border-right-color: var(--fill-color);\n",
              "      border-bottom-color: var(--fill-color);\n",
              "    }\n",
              "    90% {\n",
              "      border-color: transparent;\n",
              "      border-bottom-color: var(--fill-color);\n",
              "    }\n",
              "  }\n",
              "</style>\n",
              "\n",
              "  <script>\n",
              "    async function quickchart(key) {\n",
              "      const quickchartButtonEl =\n",
              "        document.querySelector('#' + key + ' button');\n",
              "      quickchartButtonEl.disabled = true;  // To prevent multiple clicks.\n",
              "      quickchartButtonEl.classList.add('colab-df-spinner');\n",
              "      try {\n",
              "        const charts = await google.colab.kernel.invokeFunction(\n",
              "            'suggestCharts', [key], {});\n",
              "      } catch (error) {\n",
              "        console.error('Error during call to suggestCharts:', error);\n",
              "      }\n",
              "      quickchartButtonEl.classList.remove('colab-df-spinner');\n",
              "      quickchartButtonEl.classList.add('colab-df-quickchart-complete');\n",
              "    }\n",
              "    (() => {\n",
              "      let quickchartButtonEl =\n",
              "        document.querySelector('#df-0e534c1e-5c07-4608-92ca-5d99a2ab80a3 button');\n",
              "      quickchartButtonEl.style.display =\n",
              "        google.colab.kernel.accessAllowed ? 'block' : 'none';\n",
              "    })();\n",
              "  </script>\n",
              "</div>\n",
              "\n",
              "    </div>\n",
              "  </div>\n"
            ],
            "application/vnd.google.colaboratory.intrinsic+json": {
              "type": "dataframe",
              "variable_name": "data",
              "summary": "{\n  \"name\": \"data\",\n  \"rows\": 93,\n  \"fields\": [\n    {\n      \"column\": \"iso\",\n      \"properties\": {\n        \"dtype\": \"string\",\n        \"num_unique_values\": 93,\n        \"samples\": [\n          \"IDN\",\n          \"DNK\",\n          \"LVA\"\n        ],\n        \"semantic_type\": \"\",\n        \"description\": \"\"\n      }\n    },\n    {\n      \"column\": \"ioc\",\n      \"properties\": {\n        \"dtype\": \"string\",\n        \"num_unique_values\": 93,\n        \"samples\": [\n          \"INA\",\n          \"DEN\",\n          \"LAT\"\n        ],\n        \"semantic_type\": \"\",\n        \"description\": \"\"\n      }\n    },\n    {\n      \"column\": \"name\",\n      \"properties\": {\n        \"dtype\": \"string\",\n        \"num_unique_values\": 93,\n        \"samples\": [\n          \"Indonesia\",\n          \"Denmark\",\n          \"Latvia\"\n        ],\n        \"semantic_type\": \"\",\n        \"description\": \"\"\n      }\n    },\n    {\n      \"column\": \"continent\",\n      \"properties\": {\n        \"dtype\": \"category\",\n        \"num_unique_values\": 6,\n        \"samples\": [\n          \"South America\",\n          \"Asia\",\n          \"North America\"\n        ],\n        \"semantic_type\": \"\",\n        \"description\": \"\"\n      }\n    },\n    {\n      \"column\": \"population\",\n      \"properties\": {\n        \"dtype\": \"number\",\n        \"std\": 205747405,\n        \"min\": 33938,\n        \"max\": 1402112000,\n        \"num_unique_values\": 93,\n        \"samples\": [\n          273523621,\n          5831404,\n          1901548\n        ],\n        \"semantic_type\": \"\",\n        \"description\": \"\"\n      }\n    },\n    {\n      \"column\": \"gdp\",\n      \"properties\": {\n        \"dtype\": \"number\",\n        \"std\": 2702387141886,\n        \"min\": 0,\n        \"max\": 20936600000000,\n        \"num_unique_values\": 93,\n        \"samples\": [\n          1058423838345,\n          355184024841,\n          33505185229\n        ],\n        \"semantic_type\": \"\",\n        \"description\": \"\"\n      }\n    },\n    {\n      \"column\": \"olympics_index\",\n      \"properties\": {\n        \"dtype\": \"number\",\n        \"std\": 12.631319384910514,\n        \"min\": 1.0,\n        \"max\": 100.0,\n        \"num_unique_values\": 91,\n        \"samples\": [\n          8.214138941,\n          9.945771708,\n          7.1497059566\n        ],\n        \"semantic_type\": \"\",\n        \"description\": \"\"\n      }\n    },\n    {\n      \"column\": \"sports_index\",\n      \"properties\": {\n        \"dtype\": \"number\",\n        \"std\": 8.932896507066236,\n        \"min\": 7.3964775154,\n        \"max\": 72.227313319,\n        \"num_unique_values\": 91,\n        \"samples\": [\n          11.0750190424,\n          10.2789419979,\n          21.2985771931\n        ],\n        \"semantic_type\": \"\",\n        \"description\": \"\"\n      }\n    },\n    {\n      \"column\": \"olympicsIndex\",\n      \"properties\": {\n        \"dtype\": \"number\",\n        \"std\": 12.85210299433678,\n        \"min\": 0.0,\n        \"max\": 100.0,\n        \"num_unique_values\": 92,\n        \"samples\": [\n          8.214138941,\n          9.945771708,\n          21.9931457034\n        ],\n        \"semantic_type\": \"\",\n        \"description\": \"\"\n      }\n    },\n    {\n      \"column\": \"sportsIndex\",\n      \"properties\": {\n        \"dtype\": \"number\",\n        \"std\": 9.150622822874888,\n        \"min\": 0.0,\n        \"max\": 72.227313319,\n        \"num_unique_values\": 92,\n        \"samples\": [\n          11.0750190424,\n          10.2789419979,\n          15.5201704912\n        ],\n        \"semantic_type\": \"\",\n        \"description\": \"\"\n      }\n    },\n    {\n      \"column\": \"total\",\n      \"properties\": {\n        \"dtype\": \"number\",\n        \"std\": 19,\n        \"min\": 1,\n        \"max\": 113,\n        \"num_unique_values\": 30,\n        \"samples\": [\n          12,\n          17,\n          10\n        ],\n        \"semantic_type\": \"\",\n        \"description\": \"\"\n      }\n    },\n    {\n      \"column\": \"gold\",\n      \"properties\": {\n        \"dtype\": \"number\",\n        \"std\": 7,\n        \"min\": 0,\n        \"max\": 39,\n        \"num_unique_values\": 14,\n        \"samples\": [\n          22,\n          27,\n          0\n        ],\n        \"semantic_type\": \"\",\n        \"description\": \"\"\n      }\n    },\n    {\n      \"column\": \"silver\",\n      \"properties\": {\n        \"dtype\": \"number\",\n        \"std\": 6,\n        \"min\": 0,\n        \"max\": 41,\n        \"num_unique_values\": 17,\n        \"samples\": [\n          1,\n          2,\n          6\n        ],\n        \"semantic_type\": \"\",\n        \"description\": \"\"\n      }\n    },\n    {\n      \"column\": \"bronze\",\n      \"properties\": {\n        \"dtype\": \"number\",\n        \"std\": 6,\n        \"min\": 0,\n        \"max\": 33,\n        \"num_unique_values\": 21,\n        \"samples\": [\n          2,\n          23,\n          10\n        ],\n        \"semantic_type\": \"\",\n        \"description\": \"\"\n      }\n    }\n  ]\n}"
            }
          },
          "metadata": {},
          "execution_count": 2
        }
      ]
    },
    {
      "cell_type": "markdown",
      "source": [
        "# Step 2: Understand the Data\n",
        "1. Basic Analysis\n",
        "2. Univariate\n",
        "3. Bivariate / Multivariate analysis  "
      ],
      "metadata": {
        "id": "XDct4BoE1gRa"
      }
    },
    {
      "cell_type": "markdown",
      "source": [
        "## 2.1 Basic Analysis\n",
        "1. How big is the data?\n",
        "2. How does the data look like?\n",
        "3. What is the data type of cols?\n",
        "4. Are there any missing values?\n",
        "5. How does the data look mathematically?\n",
        "6. Are there any duplicate values?\n",
        "7. How is the correlation between cols?"
      ],
      "metadata": {
        "id": "E9TI56Pu3uAO"
      }
    },
    {
      "cell_type": "code",
      "source": [
        "# 1. Shape of the dataset\n",
        "print(\"Dataset Shape:\", data.shape)"
      ],
      "metadata": {
        "id": "3AT_aQke2El5"
      },
      "execution_count": null,
      "outputs": []
    },
    {
      "cell_type": "code",
      "source": [
        "# 2. First few rows\n",
        "print(\"First 5 rows:\")\n",
        "print(data.head())"
      ],
      "metadata": {
        "id": "YrQHh-Qk2LOj"
      },
      "execution_count": null,
      "outputs": []
    },
    {
      "cell_type": "code",
      "source": [
        "# 3. Random sample of 5 rows\n",
        "print(\"Random Sample:\")\n",
        "print(data.sample(5))"
      ],
      "metadata": {
        "id": "ZrgG6BhC2P_g"
      },
      "execution_count": null,
      "outputs": []
    },
    {
      "cell_type": "code",
      "source": [
        "# 4. Dataset Info\n",
        "data.info()"
      ],
      "metadata": {
        "id": "OfC_yAr42RJj"
      },
      "execution_count": null,
      "outputs": []
    },
    {
      "cell_type": "code",
      "source": [
        "# 5. Null values\n",
        "print(\"Missing Values:\")\n",
        "print(data.isnull().sum())"
      ],
      "metadata": {
        "id": "BllNKwe42TgC"
      },
      "execution_count": null,
      "outputs": []
    },
    {
      "cell_type": "code",
      "source": [
        "# 6. Statistical summary\n",
        "print(\"Statistical Summary:\")\n",
        "print(data.describe())"
      ],
      "metadata": {
        "id": "eEq2LLpj2VgI"
      },
      "execution_count": null,
      "outputs": []
    },
    {
      "cell_type": "code",
      "source": [
        "# 7. Duplicated rows\n",
        "print(\"Number of Duplicated Rows:\", data.duplicated().sum())"
      ],
      "metadata": {
        "id": "_6kSbzCy2Xtk"
      },
      "execution_count": null,
      "outputs": []
    },
    {
      "cell_type": "code",
      "source": [
        "# 8. Drop duplicates\n",
        "data.drop_duplicates(inplace=True)"
      ],
      "metadata": {
        "id": "3Z3GfoI02a5I"
      },
      "execution_count": null,
      "outputs": []
    },
    {
      "cell_type": "code",
      "source": [
        "# 9. Correlation matrix\n",
        "print(\"Correlation Matrix:\")\n",
        "plt.figure(figsize=(10, 8))\n",
        "sns.heatmap(data.corr(), annot=True, cmap='coolwarm')\n",
        "plt.title('Correlation Heatmap')\n",
        "plt.show()"
      ],
      "metadata": {
        "id": "LhQP0Pzi2dfL"
      },
      "execution_count": null,
      "outputs": []
    },
    {
      "cell_type": "markdown",
      "source": [
        "## 2.2 EDA: Univariate Analysis"
      ],
      "metadata": {
        "id": "9o-P_GZK2i4z"
      }
    },
    {
      "cell_type": "code",
      "source": [
        "# Countplot for a categorical variable (continent)\n",
        "sns.countplot(x='continent', data=data)\n",
        "plt.title('Countplot of Continents')\n",
        "plt.show()\n"
      ],
      "metadata": {
        "id": "7o6KhjQe2oDe"
      },
      "execution_count": null,
      "outputs": []
    },
    {
      "cell_type": "code",
      "source": [
        "# Pie chart for total medals distribution\n",
        "labels = data['continent'].unique()\n",
        "sizes = data['continent'].value_counts()\n",
        "plt.pie(sizes, labels=labels, autopct='%1.1f%%', startangle=140)\n",
        "plt.title('Pie Chart of Continents')\n",
        "plt.axis('equal')\n",
        "plt.show()"
      ],
      "metadata": {
        "id": "BpsRI-RC2qmu"
      },
      "execution_count": null,
      "outputs": []
    },
    {
      "cell_type": "code",
      "source": [
        "# Histogram for GDP\n",
        "plt.hist(data['gdp'], bins=10, alpha=0.7)\n",
        "plt.title('Histogram of GDP')\n",
        "plt.xlabel('GDP')\n",
        "plt.ylabel('Frequency')\n",
        "plt.show()"
      ],
      "metadata": {
        "id": "xoyrjqCb2tmQ"
      },
      "execution_count": null,
      "outputs": []
    },
    {
      "cell_type": "code",
      "source": [
        "# Distplot for population\n",
        "sns.histplot(data['population'], kde=True, bins=20)\n",
        "plt.title('Population Distribution')\n",
        "plt.show()\n"
      ],
      "metadata": {
        "id": "5HoWMSQT2wJm"
      },
      "execution_count": null,
      "outputs": []
    },
    {
      "cell_type": "code",
      "source": [
        "# Boxplot for sports index\n",
        "sns.boxplot(y='sports_index', data=data)\n",
        "plt.title('Boxplot of Sports Index')\n",
        "plt.show()"
      ],
      "metadata": {
        "id": "8WhcDQjj2xnj"
      },
      "execution_count": null,
      "outputs": []
    },
    {
      "cell_type": "code",
      "source": [
        "# Summary statistics for specific features\n",
        "print(\"GDP Statistics:\")\n",
        "print(\"Min:\", data['gdp'].min())\n",
        "print(\"Max:\", data['gdp'].max())\n",
        "print(\"Mean:\", data['gdp'].mean())\n",
        "print(\"Standard Deviation:\", data['gdp'].std())\n",
        "print(\"Variance:\", data['gdp'].var())"
      ],
      "metadata": {
        "id": "M4CnU6Be2zKf"
      },
      "execution_count": null,
      "outputs": []
    },
    {
      "cell_type": "code",
      "source": [
        "# Skewness of numerical columns\n",
        "print(\"Skewness of Numerical Features:\")\n",
        "print(data[['gdp', 'population', 'sports_index']].skew())"
      ],
      "metadata": {
        "id": "WdDT6pdU20tP"
      },
      "execution_count": null,
      "outputs": []
    },
    {
      "cell_type": "markdown",
      "source": [
        "## 2.3 EDA: Multivariate Analysis"
      ],
      "metadata": {
        "id": "8Nn0Zb7w22as"
      }
    },
    {
      "cell_type": "code",
      "source": [
        "# Scatterplot for GDP vs. Total Medals\n",
        "sns.scatterplot(x='gdp', y='total', data=data)\n",
        "plt.title('Scatterplot of GDP vs Total Medals')\n",
        "plt.show()"
      ],
      "metadata": {
        "id": "gFyhbV0_27bc"
      },
      "execution_count": null,
      "outputs": []
    },
    {
      "cell_type": "code",
      "source": [
        "# Barplot for medals by continent\n",
        "sns.barplot(x='continent', y='total', data=data, ci=None)\n",
        "plt.title('Barplot of Total Medals by Continent')\n",
        "plt.show()"
      ],
      "metadata": {
        "id": "xXcKnRe-29ir"
      },
      "execution_count": null,
      "outputs": []
    },
    {
      "cell_type": "code",
      "source": [
        "# Boxplot for GDP by continent\n",
        "sns.boxplot(x='continent', y='gdp', data=data)\n",
        "plt.title('Boxplot of GDP by Continent')\n",
        "plt.show()"
      ],
      "metadata": {
        "id": "e6c9ipu92_HN"
      },
      "execution_count": null,
      "outputs": []
    },
    {
      "cell_type": "code",
      "source": [
        "# Distplot for Total Medals\n",
        "sns.histplot(data['total'], kde=True, bins=20)\n",
        "plt.title('Distribution of Total Medals')\n",
        "plt.show()"
      ],
      "metadata": {
        "id": "Xnw75DfN3A08"
      },
      "execution_count": null,
      "outputs": []
    },
    {
      "cell_type": "code",
      "source": [
        "# Clustermap of correlations\n",
        "sns.clustermap(data.corr(), cmap='coolwarm', annot=True)\n",
        "plt.title('Clustermap of Feature Correlations')\n",
        "plt.show()"
      ],
      "metadata": {
        "id": "nzPLj28Y3Cb3"
      },
      "execution_count": null,
      "outputs": []
    },
    {
      "cell_type": "code",
      "source": [
        "# Pairplot for key numerical features\n",
        "sns.pairplot(data[['gdp', 'population', 'sports_index', 'total']])\n",
        "plt.title('Pairplot of Key Features')\n",
        "plt.show()"
      ],
      "metadata": {
        "id": "xMkDf_1-3EGm"
      },
      "execution_count": null,
      "outputs": []
    },
    {
      "cell_type": "code",
      "source": [
        "# Lineplot for GDP and Total Medals\n",
        "sns.lineplot(x='gdp', y='total', data=data)\n",
        "plt.title('Lineplot of GDP vs Total Medals')\n",
        "plt.show()\n"
      ],
      "metadata": {
        "id": "oDCJHxb-3FZF"
      },
      "execution_count": null,
      "outputs": []
    },
    {
      "cell_type": "markdown",
      "source": [
        "# Feature Engineering"
      ],
      "metadata": {
        "id": "VULmaR0v3Qxw"
      }
    },
    {
      "cell_type": "code",
      "execution_count": null,
      "metadata": {
        "id": "D6D9QGIQYspe"
      },
      "outputs": [],
      "source": [
        "\n",
        "# Normalize numerical features (GDP and population)\n",
        "from sklearn.preprocessing import MinMaxScaler\n",
        "scaler = MinMaxScaler()\n",
        "data[['gdp', 'population']] = scaler.fit_transform(data[['gdp', 'population']])\n",
        "\n",
        "# Feature Engineering\n",
        "data['gdp_population_interaction'] = data['gdp'] * data['population']\n",
        "\n",
        "# Split dataset into features and target\n",
        "target = 'total'\n",
        "X = data[['gdp', 'population', 'sports_index', 'gdp_population_interaction']]\n",
        "y = data[target]\n",
        "\n",
        "# Train-Test Split\n",
        "X_train, X_test, y_train, y_test = train_test_split(X, y, test_size=0.2, random_state=42)\n",
        "\n",
        "## Exploratory Data Analysis\n",
        "\n",
        "# Correlation Matrix\n",
        "plt.figure(figsize=(10, 8))\n",
        "sns.heatmap(data.corr(), annot=True, cmap='coolwarm')\n",
        "plt.title('Correlation Matrix')\n",
        "plt.show()\n",
        "\n",
        "# Scatter Plot\n",
        "plt.scatter(data['gdp'], data['total'])\n",
        "plt.xlabel('GDP')\n",
        "plt.ylabel('Total Medals')\n",
        "plt.title('GDP vs Total Medals')\n",
        "plt.show()\n",
        "\n",
        "## Machine Learning Models\n",
        "\n",
        "# Linear Regression\n",
        "lr = LinearRegression()\n",
        "lr.fit(X_train, y_train)\n",
        "y_pred_lr = lr.predict(X_test)\n",
        "\n",
        "# Decision Tree\n",
        "dt = DecisionTreeRegressor(random_state=42)\n",
        "dt.fit(X_train, y_train)\n",
        "y_pred_dt = dt.predict(X_test)\n",
        "\n",
        "# Random Forest\n",
        "rf = RandomForestRegressor(random_state=42, n_estimators=100)\n",
        "rf.fit(X_train, y_train)\n",
        "y_pred_rf = rf.predict(X_test)\n",
        "\n",
        "# Evaluation Function\n",
        "def evaluate_model(y_true, y_pred):\n",
        "    mae = mean_absolute_error(y_true, y_pred)\n",
        "    mse = mean_squared_error(y_true, y_pred)\n",
        "    r2 = r2_score(y_true, y_pred)\n",
        "    return mae, mse, r2\n",
        "\n",
        "# Evaluate Models\n",
        "results = {\n",
        "    'Linear Regression': evaluate_model(y_test, y_pred_lr),\n",
        "    'Decision Tree': evaluate_model(y_test, y_pred_dt),\n",
        "    'Random Forest': evaluate_model(y_test, y_pred_rf),\n",
        "}\n",
        "\n",
        "results_df = pd.DataFrame(results, index=['MAE', 'MSE', 'R2']).T\n",
        "print(results_df)\n",
        "\n",
        "## Deep Learning Model\n",
        "\n",
        "# Build Neural Network\n",
        "model = Sequential([\n",
        "    Dense(32, activation='relu', input_shape=(X_train.shape[1],)),\n",
        "    Dense(64, activation='relu'),\n",
        "    Dense(1)  # Output layer\n",
        "])\n",
        "\n",
        "model.compile(optimizer='adam', loss='mean_squared_error', metrics=['mean_absolute_error'])\n",
        "\n",
        "# Train the model\n",
        "history = model.fit(X_train, y_train, epochs=50, batch_size=32, validation_split=0.2, verbose=0)\n",
        "\n",
        "# Evaluate the model\n",
        "loss, mae = model.evaluate(X_test, y_test)\n",
        "y_pred_nn = model.predict(X_test)\n",
        "\n",
        "# Add Neural Network to Results\n",
        "nn_results = evaluate_model(y_test, y_pred_nn.flatten())\n",
        "results_df.loc['Neural Network'] = nn_results\n",
        "print(results_df)\n",
        "\n",
        "# Plot Training History\n",
        "plt.plot(history.history['loss'], label='Train Loss')\n",
        "plt.plot(history.history['val_loss'], label='Validation Loss')\n",
        "plt.xlabel('Epochs')\n",
        "plt.ylabel('Loss')\n",
        "plt.legend()\n",
        "plt.title('Neural Network Training History')\n",
        "plt.show()\n"
      ]
    }
  ]
}